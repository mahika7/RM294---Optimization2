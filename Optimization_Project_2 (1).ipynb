{
  "cells": [
    {
      "cell_type": "code",
      "execution_count": 1,
      "id": "5aa837f4",
      "metadata": {
        "id": "5aa837f4"
      },
      "outputs": [],
      "source": [
        "import numpy as np\n",
        "import pandas as pd\n",
        "import matplotlib.pyplot as plt\n",
        "%matplotlib inline\n",
        "from scipy.stats import binom"
      ]
    },
    {
      "cell_type": "markdown",
      "id": "a771d67e",
      "metadata": {
        "id": "a771d67e"
      },
      "source": [
        "### Main variables initialization"
      ]
    },
    {
      "cell_type": "code",
      "execution_count": 2,
      "id": "a7122d2d",
      "metadata": {
        "id": "a7122d2d"
      },
      "outputs": [],
      "source": [
        "#coach variables\n",
        "coach_L = 300    # low price of coach\n",
        "coach_H = 350    # high price of coach \n",
        "coach_L_prob = [0.65,0.35] # demand probabilities for low price on coach\n",
        "coach_H_prob= [0.30,0.70] # demand probabilities for high price on coach\n",
        "coach_seats=100    # number of coach seats\n",
        "coach_show=0.95 # probability of coach seat passenger showing up\n",
        "\n",
        "# first class variables\n",
        "first_L = 425    # low price of first\n",
        "first_H = 500    # high price of first\n",
        "first_L_prob = [0.08,0.92] # demand probabilities for low price on first class\n",
        "first_H_prob = [0.04,0.96] # demand probabilities for high price on first class\n",
        "first_seats=20        # number of first class seats\n",
        "first_show=0.97   # probability of first seat passenger showing up\n",
        "\n",
        "# general variables\n",
        "discount = 1/(1+0.15/365) # discount rate\n",
        "T=365 #365 days in a year\n",
        "first_bump_cost = -50    # cost if coach passenger is bumped to first class\n",
        "plane_bump_cost = -425   # cost if the overbooked passenger is bumped of the plane"
      ]
    },
    {
      "cell_type": "code",
      "execution_count": 3,
      "id": "55833abf",
      "metadata": {
        "id": "55833abf"
      },
      "outputs": [],
      "source": [
        "def DP_solve(no_selling,overbook):    \n",
        "    coach_Values = np.arange(coach_seats+overbook+1)  # all possible number of coach seats left\n",
        "    first_Values = np.arange(first_seats+1)  # all possible number first class  of seats left\n",
        "    tValues = np.arange(T+1)                 # all possible days until takeoff\n",
        "    num_coach=len(coach_Values)  # number of coach seats\n",
        "    num_first=len(first_Values)  # number of first class seats\n",
        "    tN=len(tValues)\n",
        "  \n",
        "    V = np.zeros((num_coach,num_first,tN))   # initialize value function\n",
        "    U = np.zeros((num_coach,num_first,tN)) # initialize optimal choice variable\n",
        "    \n",
        "    # boundary/terminal condition\n",
        "    U[:,:,tN-1] = 0  # 0 is the value for no tickets for sale\n",
        "    \n",
        "    # filling the all possible values of coach and first class seats with expected cost at time tN( at time of departure)\n",
        "    for coach_sold in range(num_coach):\n",
        "        for first_sold in range(num_first): \n",
        "            revenue = 0 \n",
        "            for i in range(coach_sold+1): \n",
        "                for j in range(first_sold+1):\n",
        "                    if i > coach_seats:\n",
        "                        prob = binom.pmf(i, coach_sold, coach_show) * binom.pmf(j, first_sold, first_show)\n",
        "                        num_plane_bump = max(i-coach_seats,0) \n",
        "                        num_first_bump= min(first_seats-j,num_plane_bump)\n",
        "                        temp = (first_bump_cost*num_first_bump + (num_plane_bump-num_first_bump)*plane_bump_cost)\n",
        "                        revenue += temp*prob\n",
        "\n",
        "            V[coach_sold, first_sold , tN-1] = revenue\n",
        "            \n",
        "            \n",
        "            \n",
        "    for t in reversed(range(tN-1)): \n",
        "        for i in range(num_coach):  \n",
        "            for j in range(num_first): \n",
        "\n",
        "                # all are sold out\n",
        "                if (i == num_coach-1) and (j == num_first-1):\n",
        "                    V[i, j, t] = discount * V[i, j, t+1]\n",
        "                    U[i, j, t] = 0 \n",
        "\n",
        "                    #coach is sold out and first class is available\n",
        "                elif (i == num_coach-1) and (j < num_first-1): \n",
        "                    V_CH_FH = first_H * first_H_prob[0] + discount*(first_H_prob[0]*V[i, j+1, t+1] + first_H_prob[1]*V[i, j, t+1])\n",
        "                    V_CH_FL = first_L * first_L_prob[0] + discount*(first_L_prob[0]*V[i, j+1, t+1] + first_L_prob[1]*V[i, j, t+1])\n",
        "                    V_CL_FH = V_CH_FH\n",
        "                    V_CL_FL = V_CH_FL\n",
        "                    V[i, j, t] = max(V_CH_FH, V_CH_FL, V_CL_FH, V_CL_FL)\n",
        "                    U[i, j, t] = np.argmax([V_CH_FH, V_CH_FL, V_CL_FH, V_CL_FL])+1 \n",
        "                    \n",
        "                    #first class is sold out and coach class is available\n",
        "\n",
        "                elif (i < num_coach-1) and (j == num_first-1): \n",
        "                    V_CH_FH = coach_H * coach_H_prob[0] + discount*(coach_H_prob[0]*V[i+1, j, t+1] + coach_H_prob[1]*V[i, j, t+1])\n",
        "                    V_CL_FH = coach_L * coach_L_prob[0] + discount*(coach_L_prob[0]*V[i+1, j, t+1] + coach_L_prob[1]*V[i, j, t+1])\n",
        "                    V_CH_FL = V_CH_FH\n",
        "                    V_CL_FL = V_CL_FH\n",
        "                    \n",
        "                    if no_selling:\n",
        "                        V_N_FH = discount*(coach_H_prob[0] * V[i, j, t+1] + coach_H_prob[1] * V[i, j, t+1])\n",
        "                        V_N_FL = discount*(coach_L_prob[0] * V[i, j, t+1] + coach_L_prob[1] * V[i, j, t+1])        \n",
        "                        V[i, j, t] = max(V_CH_FH, V_CH_FL, V_CL_FH, V_CL_FL, V_N_FH , V_N_FL)\n",
        "                        U[i, j, t] = np.argmax([V_CH_FH, V_CH_FL, V_CL_FH, V_CL_FL, V_N_FH , V_N_FL])+1 \n",
        "                    else:\n",
        "                        V[i, j, t] = max(V_CH_FH, V_CH_FL, V_CL_FH, V_CL_FL)\n",
        "                        U[i, j, t] = np.argmax([V_CH_FH, V_CH_FL, V_CL_FH, V_CL_FL])+1 \n",
        "                        \n",
        "\n",
        "                    \n",
        "                    # coach and first class seats  are available\n",
        "                else: \n",
        "                    V_CH_FH = (coach_H + first_H) * first_H_prob[0] * coach_H_prob[0] + \\\n",
        "                    coach_H * coach_H_prob[0] * first_H_prob[1] + first_H * first_H_prob[0] * coach_H_prob[1] + \\\n",
        "                    discount*(coach_H_prob[0] * first_H_prob[0] * V[i+1, j+1, t+1] + coach_H_prob[0] * first_H_prob[1]*V[i+1, j, t+1] + \\\n",
        "                              coach_H_prob[1] * first_H_prob[0]*V[i, j+1, t+1] + coach_H_prob[1] * first_H_prob[1]*V[i, j, t+1])\n",
        "\n",
        "\n",
        "                    V_CH_FL =  (coach_H + first_L) * coach_H_prob[0] * first_L_prob[0] + coach_H * coach_H_prob[0] * first_L_prob[1] + \\\n",
        "                    first_L * first_L_prob[0] * coach_H_prob[1] + discount*(coach_H_prob[0] * first_L_prob[0] * V[i+1, j+1, t+1] + \\\n",
        "                              coach_H_prob[0] * first_L_prob[1]*V[i+1, j, t+1] + coach_H_prob[1] * first_L_prob[0]*V[i, j+1, t+1] + \\\n",
        "                              coach_H_prob[1] * first_L_prob[1]*V[i, j, t+1])\n",
        "\n",
        "\n",
        "                    V_CL_FH =  (coach_L + first_H) * coach_L_prob[0] * first_H_prob[0] + \\\n",
        "                    coach_L * coach_L_prob[0] * first_H_prob[1] + first_H * first_H_prob[0] * coach_L_prob[1] + \\\n",
        "                    discount*(coach_L_prob[0] * first_H_prob[0] * V[i+1, j+1, t+1] + coach_L_prob[0] * first_H_prob[1]*V[i+1, j, t+1] + \\\n",
        "                              coach_L_prob[1] * first_H_prob[0]*V[i, j+1, t+1] + coach_L_prob[1] * first_H_prob[1]*V[i, j, t+1])\n",
        "\n",
        "\n",
        "                    V_CL_FL =  (coach_L + first_L) * coach_L_prob[0] * first_L_prob[0] + \\\n",
        "                    coach_L * coach_L_prob[0] * first_L_prob[1] +  first_L * first_L_prob[0] * coach_L_prob[1] + \\\n",
        "                    discount*(coach_L_prob[0] * first_L_prob[0] * V[i+1, j+1, t+1] +  coach_L_prob[0] * first_L_prob[1]*V[i+1, j, t+1] + \\\n",
        "                              coach_L_prob[1] * first_L_prob[0]*V[i, j+1, t+1] + coach_L_prob[1] * first_L_prob[1]*V[i, j, t+1])\n",
        "\n",
        "                    # IF NO SALE IS AN OPTION\n",
        "                    if no_selling:\n",
        "                        V_N_FH = first_H * first_H_prob[0] + discount*(first_H_prob[0] * V[i, j+1, t+1] + first_H_prob[1]*V[i, j, t+1])\n",
        "                        V_N_FL = first_L * first_L_prob[0] + discount*(first_L_prob[0] * V[i, j+1, t+1] + first_L_prob[1]*V[i, j, t+1])\n",
        "\n",
        "                        V[i, j, t] = max(V_CH_FH, V_CH_FL, V_CL_FH, V_CL_FL, V_N_FH, V_N_FL)\n",
        "                        U[i, j, t] = np.argmax([V_CH_FH, V_CH_FL, V_CL_FH, V_CL_FL, V_N_FH, V_N_FL])+1 \n",
        "                    else: \n",
        "                        V[i, j, t] = max(V_CH_FH, V_CH_FL, V_CL_FH, V_CL_FL)\n",
        "                        U[i, j, t] = np.argmax([V_CH_FH, V_CH_FL, V_CL_FH, V_CL_FL])+1 \n",
        "\n",
        "                    \n",
        "    return V, U\n",
        "\n",
        "    "
      ]
    },
    {
      "cell_type": "markdown",
      "id": "698696a3",
      "metadata": {
        "id": "698696a3"
      },
      "source": [
        "### Q1"
      ]
    },
    {
      "cell_type": "code",
      "execution_count": 18,
      "id": "1f7b2bdc",
      "metadata": {
        "id": "1f7b2bdc",
        "outputId": "08a2fc7c-bf30-4aa3-ad3b-f60c5ad0a415",
        "colab": {
          "base_uri": "https://localhost:8080/"
        }
      },
      "outputs": [
        {
          "output_type": "stream",
          "name": "stdout",
          "text": [
            "The expected profit with 5 over booking is $ 42242.86219879507\n"
          ]
        }
      ],
      "source": [
        "V, U = DP_solve(False,5)\n",
        "print('The expected profit with 5 over booking is $',V[0,0,0])"
      ]
    },
    {
      "cell_type": "markdown",
      "id": "17594ff9",
      "metadata": {
        "id": "17594ff9"
      },
      "source": [
        "### Q2"
      ]
    },
    {
      "cell_type": "code",
      "execution_count": 5,
      "id": "20dd9060",
      "metadata": {
        "id": "20dd9060",
        "outputId": "1aa3a96c-3836-4c91-f835-687c542fbbf7",
        "colab": {
          "base_uri": "https://localhost:8080/"
        }
      },
      "outputs": [
        {
          "output_type": "stream",
          "name": "stdout",
          "text": [
            "The expected profit with  5  over booking is $ 42242.86219879507\n",
            "The expected profit with  6  over booking is $ 42368.86899301223\n",
            "The expected profit with  7  over booking is $ 42444.241213317226\n",
            "The expected profit with  8  over booking is $ 42482.211237591255\n",
            "The expected profit with  9  over booking is $ 42496.112304378694\n",
            "The expected profit with  10  over booking is $ 42495.97195739831\n",
            "The expected profit with  11  over booking is $ 42488.25953578203\n",
            "The expected profit with  12  over booking is $ 42476.99620870186\n",
            "The expected profit with  13  over booking is $ 42464.59794015476\n",
            "The expected profit with  14  over booking is $ 42452.36220993062\n",
            "The expected profit with  15  over booking is $ 42440.944844238955\n"
          ]
        }
      ],
      "source": [
        "overbooking = np.arange(5,16)\n",
        "exp_profit = []\n",
        "for i in overbooking:\n",
        "  V, U = DP_solve(False,i)\n",
        "  exp_profit.append(V[0,0,0])\n",
        "  print('The expected profit with ',i,' over booking is $', V[0,0,0])"
      ]
    },
    {
      "cell_type": "code",
      "execution_count": 6,
      "id": "4bc3e274",
      "metadata": {
        "id": "4bc3e274",
        "outputId": "15d766a2-d484-416f-b73c-c699e8181ee7",
        "colab": {
          "base_uri": "https://localhost:8080/",
          "height": 283
        }
      },
      "outputs": [
        {
          "output_type": "execute_result",
          "data": {
            "text/plain": [
              "[<matplotlib.lines.Line2D at 0x7f1b2d352450>]"
            ]
          },
          "metadata": {},
          "execution_count": 6
        },
        {
          "output_type": "display_data",
          "data": {
            "text/plain": [
              "<Figure size 432x288 with 1 Axes>"
            ],
            "image/png": "[encoded data removed]"
          },
          "metadata": {
            "needs_background": "light"
          }
        }
      ],
      "source": [
        "plt.plot(overbooking, exp_profit)"
      ]
    },
    {
      "cell_type": "markdown",
      "id": "8df2f862",
      "metadata": {
        "id": "8df2f862"
      },
      "source": [
        "The highest expected profit is when number of over bookings is at 9"
      ]
    },
    {
      "cell_type": "markdown",
      "id": "edc61fe5",
      "metadata": {
        "id": "edc61fe5"
      },
      "source": [
        "### Q3"
      ]
    },
    {
      "cell_type": "code",
      "execution_count": 7,
      "id": "ab6b6fc6",
      "metadata": {
        "id": "ab6b6fc6",
        "outputId": "b94af39e-2ffe-4838-e134-fd2e54341613",
        "colab": {
          "base_uri": "https://localhost:8080/"
        }
      },
      "outputs": [
        {
          "output_type": "stream",
          "name": "stdout",
          "text": [
            "The expected profit with 20 over booking is $ 42502.67326124377\n"
          ]
        }
      ],
      "source": [
        "V, U = DP_solve(True,20)\n",
        "print('The expected profit with 20 over booking is $',V[0,0,0])"
      ]
    },
    {
      "cell_type": "markdown",
      "id": "99a14231",
      "metadata": {
        "id": "99a14231"
      },
      "source": [
        "The expected profit with no sale option and 20 over booking is more than the expected profit with 9 overbookings. The latter strategy seems to perform better"
      ]
    },
    {
      "cell_type": "markdown",
      "id": "66ace9ff",
      "metadata": {
        "id": "66ace9ff"
      },
      "source": [
        "### Q4"
      ]
    },
    {
      "cell_type": "code",
      "execution_count": 8,
      "id": "00109f8b",
      "metadata": {
        "id": "00109f8b"
      },
      "outputs": [],
      "source": [
        "def DP_forward_simulations(U, overbook):\n",
        "  \n",
        "    coach_Values = np.arange(coach_seats+overbook+1) # all possible number of coach seats left\n",
        "    first_Values = np.arange(first_seats+1)  # all possible number of first class seats left\n",
        "    tValues = np.arange(T+1)  # all possible days until take off\n",
        "    num_coach=len(coach_Values) \n",
        "    num_first=len(first_Values) \n",
        "    tN=len(tValues)\n",
        "    revenue,c,f=[0,0,0]\n",
        "    \n",
        "\n",
        "    for t in range(tN-1):\n",
        "        # getting the optimum price decision at time t\n",
        "        price_opt = U[c, f, t] \n",
        "        \n",
        "        coach_prob,coach_price,first_prob,first_price=[0,0,0,0]\n",
        "        \n",
        "        # setting coach and first prices based on the optimum price decision\n",
        "        if (price_opt==1) |(price_opt==2):\n",
        "            coach_prob = coach_H_prob[0]\n",
        "            coach_price = coach_H\n",
        "\n",
        "        if (price_opt==3) |(price_opt==4):\n",
        "            coach_prob = coach_L_prob[0]\n",
        "            coach_price = coach_L\n",
        "\n",
        "        if (price_opt==1) |(price_opt==3):\n",
        "            first_prob = first_H_prob[0]\n",
        "            first_price = first_H\n",
        "\n",
        "        if (price_opt==4) |(price_opt==2):\n",
        "            first_prob = first_L_prob[0]\n",
        "            first_price = first_L\n",
        "\n",
        "        if price_opt == 5: \n",
        "            first_prob = first_H_prob[1]\n",
        "            first_price = first_H\n",
        "\n",
        "        if price_opt == 6:\n",
        "            coach_prob = first_L_prob[1]\n",
        "            first_prob = first_L\n",
        "\n",
        "\n",
        "        if c == num_coach - 1:\n",
        "            coach_prob = 0\n",
        "        if f == num_first - 1:\n",
        "            first_prob = 0\n",
        "\n",
        "        coach_sale = (np.random.random(1) < coach_prob) \n",
        "        first_sale = (np.random.random(1) < first_prob) \n",
        "        revenue += (coach_sale*coach_price + first_sale*first_price) * discount**t\n",
        "        c += coach_sale\n",
        "        f += first_sale\n",
        "        \n",
        "\n",
        "     # number of people showed up \n",
        "    coach_showup = np.random.binomial(c, coach_show)\n",
        "    first_showup = np.random.binomial(f, first_show)\n",
        "    \n",
        "    oversold = max(coach_showup-coach_seats,0) \n",
        "    first_bump = min(first_seats-first_showup,oversold)\n",
        "\n",
        "    profit = revenue\n",
        "    num_overbook = max(0, c - coach_seats)\n",
        "    cost_overbook = (first_bump_cost*first_bump + (oversold-first_bump)*plane_bump_cost)\n",
        "    bump_out_plane = max(oversold-first_bump, 0)\n",
        "\n",
        "    return profit, num_overbook, cost_overbook, bump_out_plane\n",
        "\n",
        "    \n"
      ]
    },
    {
      "cell_type": "code",
      "execution_count": 9,
      "id": "23c866fb",
      "metadata": {
        "id": "23c866fb"
      },
      "outputs": [],
      "source": [
        "nsim = 1000\n",
        "profit_fpolicy = np.zeros(nsim) \n",
        "num_overbook_fpolicy = np.zeros(nsim) \n",
        "cost_overbook_fpolicy = np.zeros(nsim) \n",
        "bump_out_plane_fpolicy = np.zeros(nsim)\n",
        "profit_spolicy = np.zeros(nsim) \n",
        "num_overbook_spolicy = np.zeros(nsim) \n",
        "cost_overbook_spolicy = np.zeros(nsim) \n",
        "bump_out_plane_spolicy = np.zeros(nsim)\n",
        "\n",
        "# getting optimal value fucntion and decision at the best value of 9 over bookings and No sale option with 20 overbookings\n",
        "V, U_fpolicy = DP_solve(False,9)\n",
        "V, U_spolicy = DP_solve(True,20)\n",
        "\n",
        "for i in range(nsim):\n",
        "    profit_fpolicy[i], num_overbook_fpolicy[i], cost_overbook_fpolicy[i], bump_out_plane_fpolicy[i] = DP_forward_simulations(U_fpolicy,9)\n",
        "    profit_spolicy[i], num_overbook_spolicy[i], cost_overbook_spolicy[i], bump_out_plane_spolicy[i] = DP_forward_simulations(U_spolicy,20)"
      ]
    },
    {
      "cell_type": "code",
      "execution_count": 10,
      "id": "f90f92c1",
      "metadata": {
        "id": "f90f92c1",
        "outputId": "eedeb251-4f7a-44bc-b108-a12695020998",
        "colab": {
          "base_uri": "https://localhost:8080/"
        }
      },
      "outputs": [
        {
          "output_type": "stream",
          "name": "stdout",
          "text": [
            "The percentage of overbooking in the first policy is   100.0  %\n",
            "The percentage of overbooking in the second policy is   100.0  %\n"
          ]
        }
      ],
      "source": [
        "## over booking\n",
        "\n",
        "print(\"The percentage of overbooking in the first policy is  \" ,(num_overbook_fpolicy > 0).sum()/len(num_overbook_fpolicy) * 100,' %')\n",
        "## over booking\n",
        "\n",
        "print(\"The percentage of overbooking in the second policy is  \" ,(num_overbook_spolicy > 0).sum()/len(num_overbook_spolicy) * 100,' %')"
      ]
    },
    {
      "cell_type": "markdown",
      "id": "6f6019c1",
      "metadata": {
        "id": "6f6019c1"
      },
      "source": [
        "In both the policies, the passengers are overbooked in each time"
      ]
    },
    {
      "cell_type": "code",
      "execution_count": 11,
      "id": "46e2a44f",
      "metadata": {
        "id": "46e2a44f",
        "outputId": "ef1fa357-93b7-4d85-ca07-6c7988114696",
        "colab": {
          "base_uri": "https://localhost:8080/",
          "height": 417
        }
      },
      "outputs": [
        {
          "output_type": "display_data",
          "data": {
            "text/plain": [
              "<Figure size 1152x432 with 2 Axes>"
            ],
            "image/png": "[encoded data removed]"
          },
          "metadata": {
            "needs_background": "light"
          }
        }
      ],
      "source": [
        "fig, (ax1, ax2) = plt.subplots(1, 2,figsize=(16,6))\n",
        "fig.suptitle('Hist plot of number of overbookings')\n",
        "ax1.hist(num_overbook_fpolicy)\n",
        "ax1.set_title('First policy')\n",
        "ax2.hist(num_overbook_spolicy)\n",
        "ax2.set_title('Second policy')\n",
        "fig.show()"
      ]
    },
    {
      "cell_type": "code",
      "execution_count": 12,
      "id": "1a6a78b9",
      "metadata": {
        "id": "1a6a78b9",
        "outputId": "2bac1bf7-f1b7-43d4-961a-419d92048644",
        "colab": {
          "base_uri": "https://localhost:8080/"
        }
      },
      "outputs": [
        {
          "output_type": "stream",
          "name": "stdout",
          "text": [
            "The percentage of times passengers kicked off the plane in the first policy is   70.6  %\n",
            "The percentage of times passengers kicked off the plane in the second policy is   72.1  %\n"
          ]
        }
      ],
      "source": [
        "## bumped off yhe plane\n",
        "print(\"The percentage of times passengers kicked off the plane in the first policy is  \" ,(bump_out_plane_fpolicy > 0).sum()/len(bump_out_plane_fpolicy) * 100,' %')\n",
        "print(\"The percentage of times passengers kicked off the plane in the second policy is  \" ,(bump_out_plane_spolicy > 0).sum()/len(bump_out_plane_spolicy) * 100,' %')"
      ]
    },
    {
      "cell_type": "markdown",
      "id": "8d3bc56f",
      "metadata": {
        "id": "8d3bc56f"
      },
      "source": [
        "Passengers are kicked off the plabe less often in the first policy"
      ]
    },
    {
      "cell_type": "code",
      "execution_count": 13,
      "id": "a4051ca4",
      "metadata": {
        "id": "a4051ca4",
        "outputId": "2c85deea-0207-4e07-b22f-11ae3386a188",
        "colab": {
          "base_uri": "https://localhost:8080/",
          "height": 417
        }
      },
      "outputs": [
        {
          "output_type": "display_data",
          "data": {
            "text/plain": [
              "<Figure size 1152x432 with 2 Axes>"
            ],
            "image/png": "[encoded data removed]"
          },
          "metadata": {
            "needs_background": "light"
          }
        }
      ],
      "source": [
        "fig, (ax1, ax2) = plt.subplots(1, 2,figsize=(16,6))\n",
        "fig.suptitle('Hist plot of number of bumps off from plane')\n",
        "ax1.hist(bump_out_plane_fpolicy)\n",
        "ax1.set_title('First policy')\n",
        "ax2.hist(bump_out_plane_spolicy)\n",
        "ax2.set_title('Second policy')\n",
        "fig.show()"
      ]
    },
    {
      "cell_type": "code",
      "execution_count": 14,
      "id": "6ba1afe1",
      "metadata": {
        "id": "6ba1afe1",
        "outputId": "5f599d8d-0bc0-4816-d0c1-62f1db7a86c3",
        "colab": {
          "base_uri": "https://localhost:8080/"
        }
      },
      "outputs": [
        {
          "output_type": "stream",
          "name": "stdout",
          "text": [
            "Average over booking cost of first policy is  $ 42314.80454405685\n",
            "Average over booking cost of second policy is  $ 42281.18265520048\n"
          ]
        }
      ],
      "source": [
        "##avg_overbooking_cost\n",
        "avg_overbooking_cost_fpolicy = (profit_fpolicy + cost_overbook_fpolicy).mean()\n",
        "avg_overbooking_cost_spolicy = (profit_spolicy + cost_overbook_spolicy).mean()\n",
        "print('Average over booking cost of first policy is  $',avg_overbooking_cost_fpolicy )\n",
        "print('Average over booking cost of second policy is  $',avg_overbooking_cost_spolicy )"
      ]
    },
    {
      "cell_type": "markdown",
      "id": "504eccee",
      "metadata": {
        "id": "504eccee"
      },
      "source": [
        " Average over booking cost is less in the second policy"
      ]
    },
    {
      "cell_type": "code",
      "execution_count": 15,
      "id": "9e4e4e39",
      "metadata": {
        "id": "9e4e4e39",
        "outputId": "a3a65c8b-4307-4d7c-b352-d06b4147f22e",
        "colab": {
          "base_uri": "https://localhost:8080/",
          "height": 417
        }
      },
      "outputs": [
        {
          "output_type": "display_data",
          "data": {
            "text/plain": [
              "<Figure size 1152x432 with 2 Axes>"
            ],
            "image/png": "[encoded data removed]"
          },
          "metadata": {
            "needs_background": "light"
          }
        }
      ],
      "source": [
        "fig, (ax1, ax2) = plt.subplots(1, 2,figsize=(16,6))\n",
        "fig.suptitle('Hist plot of profit')\n",
        "ax1.hist(profit_fpolicy + cost_overbook_fpolicy)\n",
        "ax1.set_title('First policy')\n",
        "ax2.hist(profit_spolicy + cost_overbook_spolicy)\n",
        "ax2.set_title('Second policy')\n",
        "fig.show()"
      ]
    },
    {
      "cell_type": "code",
      "execution_count": 16,
      "id": "9ea92b1d",
      "metadata": {
        "id": "9ea92b1d",
        "outputId": "f244240a-74ee-4d0b-ecdc-1a61cda946ca",
        "colab": {
          "base_uri": "https://localhost:8080/"
        }
      },
      "outputs": [
        {
          "output_type": "stream",
          "name": "stdout",
          "text": [
            "volatility of first policy is  $ 876.5812865888706\n",
            "volatility of second policy is  $ 932.980923218409\n"
          ]
        }
      ],
      "source": [
        "##volatility\n",
        "volatility_fpolicy = (profit_fpolicy ).std()\n",
        "volatility_spolicy = (profit_spolicy ).std()\n",
        "print('volatility of first policy is  $',volatility_fpolicy )\n",
        "print('volatility of second policy is  $',volatility_spolicy )"
      ]
    },
    {
      "cell_type": "markdown",
      "id": "2a28a8ad",
      "metadata": {
        "id": "2a28a8ad"
      },
      "source": [
        "volatility is higher in the second policy"
      ]
    },
    {
      "cell_type": "code",
      "execution_count": 17,
      "id": "1f91cb67",
      "metadata": {
        "id": "1f91cb67",
        "outputId": "7e4b6fe1-3fd8-4f76-ce09-8ade7b2c3b39",
        "colab": {
          "base_uri": "https://localhost:8080/",
          "height": 417
        }
      },
      "outputs": [
        {
          "output_type": "display_data",
          "data": {
            "text/plain": [
              "<Figure size 1152x432 with 2 Axes>"
            ],
            "image/png": "[encoded data removed]"
          },
          "metadata": {
            "needs_background": "light"
          }
        }
      ],
      "source": [
        "fig, (ax1, ax2) = plt.subplots(1, 2,figsize=(16,6))\n",
        "fig.suptitle('Hist plot of discounted profit')\n",
        "ax1.hist(profit_fpolicy )\n",
        "ax1.set_title('First policy')\n",
        "ax2.hist(profit_spolicy )\n",
        "ax2.set_title('Second policy')\n",
        "fig.show()"
      ]
    },
    {
      "cell_type": "code",
      "execution_count": 17,
      "id": "36beb623",
      "metadata": {
        "id": "36beb623"
      },
      "outputs": [],
      "source": [
        ""
      ]
    },
    {
      "cell_type": "code",
      "execution_count": 17,
      "id": "052a03fe",
      "metadata": {
        "id": "052a03fe"
      },
      "outputs": [],
      "source": [
        ""
      ]
    },
    {
      "cell_type": "code",
      "execution_count": 17,
      "id": "aebee1f4",
      "metadata": {
        "id": "aebee1f4"
      },
      "outputs": [],
      "source": [
        ""
      ]
    },
    {
      "cell_type": "code",
      "execution_count": 17,
      "id": "e54afc93",
      "metadata": {
        "id": "e54afc93"
      },
      "outputs": [],
      "source": [
        ""
      ]
    },
    {
      "cell_type": "code",
      "execution_count": 17,
      "id": "455d1fb3",
      "metadata": {
        "id": "455d1fb3"
      },
      "outputs": [],
      "source": [
        ""
      ]
    }
  ],
  "metadata": {
    "kernelspec": {
      "display_name": "Python 3",
      "language": "python",
      "name": "python3"
    },
    "language_info": {
      "codemirror_mode": {
        "name": "ipython",
        "version": 3
      },
      "file_extension": ".py",
      "mimetype": "text/x-python",
      "name": "python",
      "nbconvert_exporter": "python",
      "pygments_lexer": "ipython3",
      "version": "3.8.8"
    },
    "colab": {
      "name": "Optimization_Project_2.ipynb",
      "provenance": [],
      "collapsed_sections": []
    }
  },
  "nbformat": 4,
  "nbformat_minor": 5
}